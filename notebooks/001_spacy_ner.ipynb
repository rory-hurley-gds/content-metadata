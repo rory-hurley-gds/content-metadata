{
 "cells": [
  {
   "cell_type": "markdown",
   "metadata": {},
   "source": [
    "# NER with spaCy\n",
    "\n",
    "This is a notebook that explores the effectiveness of a 'vanilla' pre-trained language model from spaCy."
   ]
  },
  {
   "cell_type": "markdown",
   "metadata": {},
   "source": [
    "## Installs"
   ]
  },
  {
   "cell_type": "code",
   "execution_count": 26,
   "metadata": {},
   "outputs": [],
   "source": [
    "# !pip install spacy\n",
    "# !python3 -m spacy download en_core_web_sm\n",
    "# !pip install s3fs\n",
    "# !pip install boto\n",
    "# !pip install boto3"
   ]
  },
  {
   "cell_type": "code",
   "execution_count": 18,
   "metadata": {},
   "outputs": [],
   "source": [
    "import os\n",
    "import spacy\n",
    "import pandas as pd\n",
    "import spacy.displacy as displacy\n",
    "\n",
    "import s3fs\n",
    "import boto3\n",
    "import boto"
   ]
  },
  {
   "cell_type": "markdown",
   "metadata": {},
   "source": [
    "## Pipeline Preparation"
   ]
  },
  {
   "cell_type": "code",
   "execution_count": 19,
   "metadata": {},
   "outputs": [],
   "source": [
    "nlp = spacy.load(\"en_core_web_sm\") #define a pipeline with a language model. English pipeline optimized for CPU. Components: tok2vec, tagger, parser, senter, ner, attribute_ruler, lemmatizer."
   ]
  },
  {
   "cell_type": "code",
   "execution_count": 20,
   "metadata": {},
   "outputs": [],
   "source": [
    "text = \"STSM077030 - Companies and shareholders: company takeovers: Stamp Duty on block transfer Once a takeover offer is declared unconditional,\\\n",
    "    all the acceptances received up to that date are usually included in one ‘block transfer’- a single stock transfer form with an accompanying \\\n",
    "    schedule setting out the total number of shares in the target company to be transferred to the offeror, together with the consideration payable for each. \\\n",
    "    Stamp Duty will be chargeable on the amount or value of the consideration for each transfer, and should be set out in the schedule accompanying the stock transfer form.\\\n",
    "    STSM021190 provides more information on block transfers, including where the block transfer contains transfers on sale involving individual \\\n",
    "    shareholders where the consideration does not exceeed £1,000 and so may benefit from a £1,000 certificate of value and  not attract a Stamp Duty charge. \\\n",
    "    Separate block transfers must be prepared in respect of chargeable and non chargeable transfers. \\\n",
    "    STSM077040 - STSM077060 give details of how Stamp Duty is calculated on different types of consideration given for transfers of securities under a takeover. \\\n",
    "    Further block transfers will often be executed, for example covering acceptances received during a specified period after the offer is declared unconditional,\\\n",
    "    and/or to cover compulsory acquisitions from minority shareholders under section 979 Companies Act 2006.\""
   ]
  },
  {
   "cell_type": "code",
   "execution_count": 21,
   "metadata": {},
   "outputs": [],
   "source": [
    "doc = nlp(text)"
   ]
  },
  {
   "cell_type": "code",
   "execution_count": 22,
   "metadata": {},
   "outputs": [
    {
     "name": "stdout",
     "output_type": "stream",
     "text": [
      "STSM077030 - Companies 0 22 ORG\n",
      "1,000 815 820 MONEY\n",
      "1,000 848 853 MONEY\n",
      "Stamp Duty 894 904 ORG\n",
      "2006 1440 1444 DATE\n"
     ]
    }
   ],
   "source": [
    "for ent in doc.ents:\n",
    "    print(ent.text, ent.start_char, ent.end_char, ent.label_)"
   ]
  },
  {
   "cell_type": "code",
   "execution_count": 7,
   "metadata": {},
   "outputs": [
    {
     "data": {
      "text/html": [
       "<span class=\"tex2jax_ignore\"><div class=\"entities\" style=\"line-height: 2.5; direction: ltr\">\n",
       "<mark class=\"entity\" style=\"background: #7aecec; padding: 0.45em 0.6em; margin: 0 0.25em; line-height: 1; border-radius: 0.35em;\">\n",
       "    STSM077030 - Companies\n",
       "    <span style=\"font-size: 0.8em; font-weight: bold; line-height: 1; border-radius: 0.35em; vertical-align: middle; margin-left: 0.5rem\">ORG</span>\n",
       "</mark>\n",
       " and shareholders: company takeovers: Stamp Duty on block transfer Once a takeover offer is declared unconditional,    all the acceptances received up to that date are usually included in one ‘block transfer’- a single stock transfer form with an accompanying     schedule setting out the total number of shares in the target company to be transferred to the offeror, together with the consideration payable for each.     Stamp Duty will be chargeable on the amount or value of the consideration for each transfer, and should be set out in the schedule accompanying the stock transfer form.    STSM021190 provides more information on block transfers, including where the block transfer contains transfers on sale involving individual     shareholders where the consideration does not exceeed £\n",
       "<mark class=\"entity\" style=\"background: #e4e7d2; padding: 0.45em 0.6em; margin: 0 0.25em; line-height: 1; border-radius: 0.35em;\">\n",
       "    1,000\n",
       "    <span style=\"font-size: 0.8em; font-weight: bold; line-height: 1; border-radius: 0.35em; vertical-align: middle; margin-left: 0.5rem\">MONEY</span>\n",
       "</mark>\n",
       " and so may benefit from a £\n",
       "<mark class=\"entity\" style=\"background: #e4e7d2; padding: 0.45em 0.6em; margin: 0 0.25em; line-height: 1; border-radius: 0.35em;\">\n",
       "    1,000\n",
       "    <span style=\"font-size: 0.8em; font-weight: bold; line-height: 1; border-radius: 0.35em; vertical-align: middle; margin-left: 0.5rem\">MONEY</span>\n",
       "</mark>\n",
       " certificate of value and  not attract a \n",
       "<mark class=\"entity\" style=\"background: #7aecec; padding: 0.45em 0.6em; margin: 0 0.25em; line-height: 1; border-radius: 0.35em;\">\n",
       "    Stamp Duty\n",
       "    <span style=\"font-size: 0.8em; font-weight: bold; line-height: 1; border-radius: 0.35em; vertical-align: middle; margin-left: 0.5rem\">ORG</span>\n",
       "</mark>\n",
       " charge.     Separate block transfers must be prepared in respect of chargeable and non chargeable transfers.     STSM077040 - STSM077060 give details of how Stamp Duty is calculated on different types of consideration given for transfers of securities under a takeover.     Further block transfers will often be executed, for example covering acceptances received during a specified period after the offer is declared unconditional,    and/or to cover compulsory acquisitions from minority shareholders under section 979 Companies Act \n",
       "<mark class=\"entity\" style=\"background: #bfe1d9; padding: 0.45em 0.6em; margin: 0 0.25em; line-height: 1; border-radius: 0.35em;\">\n",
       "    2006\n",
       "    <span style=\"font-size: 0.8em; font-weight: bold; line-height: 1; border-radius: 0.35em; vertical-align: middle; margin-left: 0.5rem\">DATE</span>\n",
       "</mark>\n",
       ".</div></span>"
      ],
      "text/plain": [
       "<IPython.core.display.HTML object>"
      ]
     },
     "metadata": {},
     "output_type": "display_data"
    }
   ],
   "source": [
    "displacy.render(doc, style='ent')"
   ]
  },
  {
   "cell_type": "code",
   "execution_count": 34,
   "metadata": {},
   "outputs": [],
   "source": [
    "def find_vis_ents(text):\n",
    "    doc = nlp(text)\n",
    "    #for ent in doc.ents:\n",
    "        #print(ent.text, ent.start_char, ent.end_char, ent.label_)\n",
    "    displacy.render(doc, style='ent')"
   ]
  },
  {
   "cell_type": "code",
   "execution_count": 24,
   "metadata": {},
   "outputs": [
    {
     "name": "stdout",
     "output_type": "stream",
     "text": [
      "STSM077030 - Companies 0 22 ORG\n",
      "1,000 815 820 MONEY\n",
      "1,000 848 853 MONEY\n",
      "Stamp Duty 894 904 ORG\n",
      "2006 1440 1444 DATE\n"
     ]
    },
    {
     "data": {
      "text/html": [
       "<span class=\"tex2jax_ignore\"><div class=\"entities\" style=\"line-height: 2.5; direction: ltr\">\n",
       "<mark class=\"entity\" style=\"background: #7aecec; padding: 0.45em 0.6em; margin: 0 0.25em; line-height: 1; border-radius: 0.35em;\">\n",
       "    STSM077030 - Companies\n",
       "    <span style=\"font-size: 0.8em; font-weight: bold; line-height: 1; border-radius: 0.35em; vertical-align: middle; margin-left: 0.5rem\">ORG</span>\n",
       "</mark>\n",
       " and shareholders: company takeovers: Stamp Duty on block transfer Once a takeover offer is declared unconditional,    all the acceptances received up to that date are usually included in one ‘block transfer’- a single stock transfer form with an accompanying     schedule setting out the total number of shares in the target company to be transferred to the offeror, together with the consideration payable for each.     Stamp Duty will be chargeable on the amount or value of the consideration for each transfer, and should be set out in the schedule accompanying the stock transfer form.    STSM021190 provides more information on block transfers, including where the block transfer contains transfers on sale involving individual     shareholders where the consideration does not exceeed £\n",
       "<mark class=\"entity\" style=\"background: #e4e7d2; padding: 0.45em 0.6em; margin: 0 0.25em; line-height: 1; border-radius: 0.35em;\">\n",
       "    1,000\n",
       "    <span style=\"font-size: 0.8em; font-weight: bold; line-height: 1; border-radius: 0.35em; vertical-align: middle; margin-left: 0.5rem\">MONEY</span>\n",
       "</mark>\n",
       " and so may benefit from a £\n",
       "<mark class=\"entity\" style=\"background: #e4e7d2; padding: 0.45em 0.6em; margin: 0 0.25em; line-height: 1; border-radius: 0.35em;\">\n",
       "    1,000\n",
       "    <span style=\"font-size: 0.8em; font-weight: bold; line-height: 1; border-radius: 0.35em; vertical-align: middle; margin-left: 0.5rem\">MONEY</span>\n",
       "</mark>\n",
       " certificate of value and  not attract a \n",
       "<mark class=\"entity\" style=\"background: #7aecec; padding: 0.45em 0.6em; margin: 0 0.25em; line-height: 1; border-radius: 0.35em;\">\n",
       "    Stamp Duty\n",
       "    <span style=\"font-size: 0.8em; font-weight: bold; line-height: 1; border-radius: 0.35em; vertical-align: middle; margin-left: 0.5rem\">ORG</span>\n",
       "</mark>\n",
       " charge.     Separate block transfers must be prepared in respect of chargeable and non chargeable transfers.     STSM077040 - STSM077060 give details of how Stamp Duty is calculated on different types of consideration given for transfers of securities under a takeover.     Further block transfers will often be executed, for example covering acceptances received during a specified period after the offer is declared unconditional,    and/or to cover compulsory acquisitions from minority shareholders under section 979 Companies Act \n",
       "<mark class=\"entity\" style=\"background: #bfe1d9; padding: 0.45em 0.6em; margin: 0 0.25em; line-height: 1; border-radius: 0.35em;\">\n",
       "    2006\n",
       "    <span style=\"font-size: 0.8em; font-weight: bold; line-height: 1; border-radius: 0.35em; vertical-align: middle; margin-left: 0.5rem\">DATE</span>\n",
       "</mark>\n",
       ".</div></span>"
      ],
      "text/plain": [
       "<IPython.core.display.HTML object>"
      ]
     },
     "metadata": {},
     "output_type": "display_data"
    }
   ],
   "source": [
    "find_vis_ents(text)"
   ]
  },
  {
   "cell_type": "markdown",
   "metadata": {},
   "source": [
    "## Integrate Doccano Data"
   ]
  },
  {
   "cell_type": "code",
   "execution_count": 29,
   "metadata": {},
   "outputs": [],
   "source": [
    "ner_data_file = \"../data/processed/line_by_line_NER_data_sampled_12062020_more_ents.csv\"\n",
    "\n",
    "df = pd.read_csv(ner_data_file, sep=\"\\t\", low_memory=False)"
   ]
  },
  {
   "cell_type": "code",
   "execution_count": 30,
   "metadata": {},
   "outputs": [
    {
     "data": {
      "text/html": [
       "<div>\n",
       "<style scoped>\n",
       "    .dataframe tbody tr th:only-of-type {\n",
       "        vertical-align: middle;\n",
       "    }\n",
       "\n",
       "    .dataframe tbody tr th {\n",
       "        vertical-align: top;\n",
       "    }\n",
       "\n",
       "    .dataframe thead th {\n",
       "        text-align: right;\n",
       "    }\n",
       "</style>\n",
       "<table border=\"1\" class=\"dataframe\">\n",
       "  <thead>\n",
       "    <tr style=\"text-align: right;\">\n",
       "      <th></th>\n",
       "      <th>text</th>\n",
       "      <th>text_token</th>\n",
       "      <th>labels</th>\n",
       "      <th>updated</th>\n",
       "      <th>original_labels</th>\n",
       "      <th>base_path</th>\n",
       "      <th>sampled</th>\n",
       "      <th>label_list</th>\n",
       "    </tr>\n",
       "  </thead>\n",
       "  <tbody>\n",
       "    <tr>\n",
       "      <th>0</th>\n",
       "      <td>They can come to your home or somewhere nearby .</td>\n",
       "      <td>['They', 'can', 'come', 'to', 'your', 'home', ...</td>\n",
       "      <td>[[22, 26, 'LOCATION'], [30, 39, 'LOCATION']]</td>\n",
       "      <td>True</td>\n",
       "      <td>[[22, 26, 'LOCATION'], [30, 39, 'LOCATION']]</td>\n",
       "      <td>/dealing-hmrc-additional-needs</td>\n",
       "      <td>False</td>\n",
       "      <td>['O', 'O', 'O', 'O', 'O', 'LOCATION', 'O', 'LO...</td>\n",
       "    </tr>\n",
       "    <tr>\n",
       "      <th>1</th>\n",
       "      <td>If you think you should get it but haven ’ t c...</td>\n",
       "      <td>['If', 'you', 'think', 'you', 'should', 'get',...</td>\n",
       "      <td>[[57, 71, 'ORGANIZATION'], [82, 96, 'LOCATION'...</td>\n",
       "      <td>True</td>\n",
       "      <td>[[82, 96, 'LOCATION'], [57, 71, 'ORGANIZATION'...</td>\n",
       "      <td>/christmas-bonus</td>\n",
       "      <td>False</td>\n",
       "      <td>['O', 'O', 'O', 'O', 'O', 'O', 'O', 'O', 'O', ...</td>\n",
       "    </tr>\n",
       "    <tr>\n",
       "      <th>2</th>\n",
       "      <td>You can not update the memorandum once the com...</td>\n",
       "      <td>['You', 'can', 'not', 'update', 'the', 'memora...</td>\n",
       "      <td>[[23, 33, 'FORM'], [43, 50, 'ORGANIZATION']]</td>\n",
       "      <td>True</td>\n",
       "      <td>[[22, 33, 'FORM'], [42, 49, 'ORGANIZATION']]</td>\n",
       "      <td>/limited-company-formation</td>\n",
       "      <td>False</td>\n",
       "      <td>['O', 'O', 'O', 'O', 'O', 'FORM', 'O', 'O', 'O...</td>\n",
       "    </tr>\n",
       "    <tr>\n",
       "      <th>3</th>\n",
       "      <td>You ’ ll be told at the end of your registrati...</td>\n",
       "      <td>['You', '’', 'll', 'be', 'told', 'at', 'the', ...</td>\n",
       "      <td>[[36, 65, 'EVENT'], [97, 103, 'ORGANIZATION']]</td>\n",
       "      <td>True</td>\n",
       "      <td>[[97, 103, 'ORGANIZATION'], [36, 65, 'EVENT'],...</td>\n",
       "      <td>/register-childminder-agency-england</td>\n",
       "      <td>False</td>\n",
       "      <td>['O', 'O', 'O', 'O', 'O', 'O', 'O', 'O', 'O', ...</td>\n",
       "    </tr>\n",
       "    <tr>\n",
       "      <th>4</th>\n",
       "      <td>The charity or CASC will give you a form to si...</td>\n",
       "      <td>['The', 'charity', 'or', 'CASC', 'will', 'give...</td>\n",
       "      <td>[[4, 11, 'ORGANIZATION'], [15, 19, 'ORGANIZATI...</td>\n",
       "      <td>True</td>\n",
       "      <td>[[4, 11, 'ORGANIZATION'], [36, 40, 'FORM'], [1...</td>\n",
       "      <td>/income-tax-reliefs</td>\n",
       "      <td>False</td>\n",
       "      <td>['O', 'ORGANIZATION', 'O', 'ORGANIZATION', 'O'...</td>\n",
       "    </tr>\n",
       "  </tbody>\n",
       "</table>\n",
       "</div>"
      ],
      "text/plain": [
       "                                                text  \\\n",
       "0   They can come to your home or somewhere nearby .   \n",
       "1  If you think you should get it but haven ’ t c...   \n",
       "2  You can not update the memorandum once the com...   \n",
       "3  You ’ ll be told at the end of your registrati...   \n",
       "4  The charity or CASC will give you a form to si...   \n",
       "\n",
       "                                          text_token  \\\n",
       "0  ['They', 'can', 'come', 'to', 'your', 'home', ...   \n",
       "1  ['If', 'you', 'think', 'you', 'should', 'get',...   \n",
       "2  ['You', 'can', 'not', 'update', 'the', 'memora...   \n",
       "3  ['You', '’', 'll', 'be', 'told', 'at', 'the', ...   \n",
       "4  ['The', 'charity', 'or', 'CASC', 'will', 'give...   \n",
       "\n",
       "                                              labels updated  \\\n",
       "0       [[22, 26, 'LOCATION'], [30, 39, 'LOCATION']]    True   \n",
       "1  [[57, 71, 'ORGANIZATION'], [82, 96, 'LOCATION'...    True   \n",
       "2       [[23, 33, 'FORM'], [43, 50, 'ORGANIZATION']]    True   \n",
       "3     [[36, 65, 'EVENT'], [97, 103, 'ORGANIZATION']]    True   \n",
       "4  [[4, 11, 'ORGANIZATION'], [15, 19, 'ORGANIZATI...    True   \n",
       "\n",
       "                                     original_labels  \\\n",
       "0       [[22, 26, 'LOCATION'], [30, 39, 'LOCATION']]   \n",
       "1  [[82, 96, 'LOCATION'], [57, 71, 'ORGANIZATION'...   \n",
       "2       [[22, 33, 'FORM'], [42, 49, 'ORGANIZATION']]   \n",
       "3  [[97, 103, 'ORGANIZATION'], [36, 65, 'EVENT'],...   \n",
       "4  [[4, 11, 'ORGANIZATION'], [36, 40, 'FORM'], [1...   \n",
       "\n",
       "                              base_path  sampled  \\\n",
       "0        /dealing-hmrc-additional-needs    False   \n",
       "1                      /christmas-bonus    False   \n",
       "2            /limited-company-formation    False   \n",
       "3  /register-childminder-agency-england    False   \n",
       "4                   /income-tax-reliefs    False   \n",
       "\n",
       "                                          label_list  \n",
       "0  ['O', 'O', 'O', 'O', 'O', 'LOCATION', 'O', 'LO...  \n",
       "1  ['O', 'O', 'O', 'O', 'O', 'O', 'O', 'O', 'O', ...  \n",
       "2  ['O', 'O', 'O', 'O', 'O', 'FORM', 'O', 'O', 'O...  \n",
       "3  ['O', 'O', 'O', 'O', 'O', 'O', 'O', 'O', 'O', ...  \n",
       "4  ['O', 'ORGANIZATION', 'O', 'ORGANIZATION', 'O'...  "
      ]
     },
     "execution_count": 30,
     "metadata": {},
     "output_type": "execute_result"
    }
   ],
   "source": [
    "df.head()"
   ]
  },
  {
   "cell_type": "code",
   "execution_count": 31,
   "metadata": {},
   "outputs": [
    {
     "name": "stdout",
     "output_type": "stream",
     "text": [
      "They can come to your home or somewhere nearby .\n",
      "If you think you should get it but haven ’ t contact the Jobcentre Plus office or pension centre that deals with your payments .\n",
      "You can not update the memorandum once the company has been registered .\n",
      "You ’ ll be told at the end of your registration inspection visit if you can start working as an agency .\n",
      "The charity or CASC will give you a form to sign .\n",
      "If you need more help There ’ s more detailed guidance on trusts and Income Tax .\n",
      "If you get into a dispute with your landlord you need to keep paying rent - otherwise you may be evicted .\n",
      "They can ask for the meeting to be postponed if this person can ’ t make it .\n",
      "To decide your tax code HMRC will estimate how much interest you ’ ll get in the current year by looking at how much you got the previous year .\n",
      "Get help with the calculations You can get help to calculate a week ’ s pay from Acas ( Advisory Conciliation and Arbitration Service ) or Citizens Advice .\n"
     ]
    }
   ],
   "source": [
    "for i in df['text'][:10]:\n",
    "    print(i)"
   ]
  },
  {
   "cell_type": "code",
   "execution_count": 35,
   "metadata": {},
   "outputs": [
    {
     "name": "stdout",
     "output_type": "stream",
     "text": [
      "They can come to your home or somewhere nearby .\n"
     ]
    },
    {
     "data": {
      "text/html": [
       "<span class=\"tex2jax_ignore\"><div class=\"entities\" style=\"line-height: 2.5; direction: ltr\">They can come to your home or somewhere nearby .</div></span>"
      ],
      "text/plain": [
       "<IPython.core.display.HTML object>"
      ]
     },
     "metadata": {},
     "output_type": "display_data"
    },
    {
     "name": "stdout",
     "output_type": "stream",
     "text": [
      "\n",
      "If you think you should get it but haven ’ t contact the Jobcentre Plus office or pension centre that deals with your payments .\n"
     ]
    },
    {
     "data": {
      "text/html": [
       "<span class=\"tex2jax_ignore\"><div class=\"entities\" style=\"line-height: 2.5; direction: ltr\">If you think you should get it but haven ’ t contact \n",
       "<mark class=\"entity\" style=\"background: #bfeeb7; padding: 0.45em 0.6em; margin: 0 0.25em; line-height: 1; border-radius: 0.35em;\">\n",
       "    the Jobcentre Plus\n",
       "    <span style=\"font-size: 0.8em; font-weight: bold; line-height: 1; border-radius: 0.35em; vertical-align: middle; margin-left: 0.5rem\">PRODUCT</span>\n",
       "</mark>\n",
       " office or pension centre that deals with your payments .</div></span>"
      ],
      "text/plain": [
       "<IPython.core.display.HTML object>"
      ]
     },
     "metadata": {},
     "output_type": "display_data"
    },
    {
     "name": "stdout",
     "output_type": "stream",
     "text": [
      "\n",
      "You can not update the memorandum once the company has been registered .\n"
     ]
    },
    {
     "data": {
      "text/html": [
       "<span class=\"tex2jax_ignore\"><div class=\"entities\" style=\"line-height: 2.5; direction: ltr\">You can not update the memorandum once the company has been registered .</div></span>"
      ],
      "text/plain": [
       "<IPython.core.display.HTML object>"
      ]
     },
     "metadata": {},
     "output_type": "display_data"
    },
    {
     "name": "stdout",
     "output_type": "stream",
     "text": [
      "\n",
      "You ’ ll be told at the end of your registration inspection visit if you can start working as an agency .\n"
     ]
    },
    {
     "data": {
      "text/html": [
       "<span class=\"tex2jax_ignore\"><div class=\"entities\" style=\"line-height: 2.5; direction: ltr\">You ’ ll be told at the end of your registration inspection visit if you can start working as an agency .</div></span>"
      ],
      "text/plain": [
       "<IPython.core.display.HTML object>"
      ]
     },
     "metadata": {},
     "output_type": "display_data"
    },
    {
     "name": "stdout",
     "output_type": "stream",
     "text": [
      "\n",
      "The charity or CASC will give you a form to sign .\n"
     ]
    },
    {
     "data": {
      "text/html": [
       "<span class=\"tex2jax_ignore\"><div class=\"entities\" style=\"line-height: 2.5; direction: ltr\">The charity or \n",
       "<mark class=\"entity\" style=\"background: #7aecec; padding: 0.45em 0.6em; margin: 0 0.25em; line-height: 1; border-radius: 0.35em;\">\n",
       "    CASC\n",
       "    <span style=\"font-size: 0.8em; font-weight: bold; line-height: 1; border-radius: 0.35em; vertical-align: middle; margin-left: 0.5rem\">ORG</span>\n",
       "</mark>\n",
       " will give you a form to sign .</div></span>"
      ],
      "text/plain": [
       "<IPython.core.display.HTML object>"
      ]
     },
     "metadata": {},
     "output_type": "display_data"
    },
    {
     "name": "stdout",
     "output_type": "stream",
     "text": [
      "\n",
      "If you need more help There ’ s more detailed guidance on trusts and Income Tax .\n"
     ]
    },
    {
     "data": {
      "text/html": [
       "<span class=\"tex2jax_ignore\"><div class=\"entities\" style=\"line-height: 2.5; direction: ltr\">If you need more help There ’ s more detailed guidance on trusts and \n",
       "<mark class=\"entity\" style=\"background: #7aecec; padding: 0.45em 0.6em; margin: 0 0.25em; line-height: 1; border-radius: 0.35em;\">\n",
       "    Income Tax\n",
       "    <span style=\"font-size: 0.8em; font-weight: bold; line-height: 1; border-radius: 0.35em; vertical-align: middle; margin-left: 0.5rem\">ORG</span>\n",
       "</mark>\n",
       " .</div></span>"
      ],
      "text/plain": [
       "<IPython.core.display.HTML object>"
      ]
     },
     "metadata": {},
     "output_type": "display_data"
    },
    {
     "name": "stdout",
     "output_type": "stream",
     "text": [
      "\n",
      "If you get into a dispute with your landlord you need to keep paying rent - otherwise you may be evicted .\n"
     ]
    },
    {
     "data": {
      "text/html": [
       "<span class=\"tex2jax_ignore\"><div class=\"entities\" style=\"line-height: 2.5; direction: ltr\">If you get into a dispute with your landlord you need to keep paying rent - otherwise you may be evicted .</div></span>"
      ],
      "text/plain": [
       "<IPython.core.display.HTML object>"
      ]
     },
     "metadata": {},
     "output_type": "display_data"
    },
    {
     "name": "stdout",
     "output_type": "stream",
     "text": [
      "\n",
      "They can ask for the meeting to be postponed if this person can ’ t make it .\n"
     ]
    },
    {
     "data": {
      "text/html": [
       "<span class=\"tex2jax_ignore\"><div class=\"entities\" style=\"line-height: 2.5; direction: ltr\">They can ask for the meeting to be postponed if this person can ’ t make it .</div></span>"
      ],
      "text/plain": [
       "<IPython.core.display.HTML object>"
      ]
     },
     "metadata": {},
     "output_type": "display_data"
    },
    {
     "name": "stdout",
     "output_type": "stream",
     "text": [
      "\n",
      "To decide your tax code HMRC will estimate how much interest you ’ ll get in the current year by looking at how much you got the previous year .\n"
     ]
    },
    {
     "data": {
      "text/html": [
       "<span class=\"tex2jax_ignore\"><div class=\"entities\" style=\"line-height: 2.5; direction: ltr\">To decide your tax code HMRC will estimate how much interest you ’ ll get in \n",
       "<mark class=\"entity\" style=\"background: #bfe1d9; padding: 0.45em 0.6em; margin: 0 0.25em; line-height: 1; border-radius: 0.35em;\">\n",
       "    the current year\n",
       "    <span style=\"font-size: 0.8em; font-weight: bold; line-height: 1; border-radius: 0.35em; vertical-align: middle; margin-left: 0.5rem\">DATE</span>\n",
       "</mark>\n",
       " by looking at how much you got \n",
       "<mark class=\"entity\" style=\"background: #bfe1d9; padding: 0.45em 0.6em; margin: 0 0.25em; line-height: 1; border-radius: 0.35em;\">\n",
       "    the previous year\n",
       "    <span style=\"font-size: 0.8em; font-weight: bold; line-height: 1; border-radius: 0.35em; vertical-align: middle; margin-left: 0.5rem\">DATE</span>\n",
       "</mark>\n",
       " .</div></span>"
      ],
      "text/plain": [
       "<IPython.core.display.HTML object>"
      ]
     },
     "metadata": {},
     "output_type": "display_data"
    },
    {
     "name": "stdout",
     "output_type": "stream",
     "text": [
      "\n",
      "Get help with the calculations You can get help to calculate a week ’ s pay from Acas ( Advisory Conciliation and Arbitration Service ) or Citizens Advice .\n"
     ]
    },
    {
     "data": {
      "text/html": [
       "<span class=\"tex2jax_ignore\"><div class=\"entities\" style=\"line-height: 2.5; direction: ltr\">Get help with the calculations You can get help to calculate a week ’ s pay from \n",
       "<mark class=\"entity\" style=\"background: #7aecec; padding: 0.45em 0.6em; margin: 0 0.25em; line-height: 1; border-radius: 0.35em;\">\n",
       "    Acas ( Advisory Conciliation and Arbitration Service\n",
       "    <span style=\"font-size: 0.8em; font-weight: bold; line-height: 1; border-radius: 0.35em; vertical-align: middle; margin-left: 0.5rem\">ORG</span>\n",
       "</mark>\n",
       " ) or \n",
       "<mark class=\"entity\" style=\"background: #7aecec; padding: 0.45em 0.6em; margin: 0 0.25em; line-height: 1; border-radius: 0.35em;\">\n",
       "    Citizens Advice\n",
       "    <span style=\"font-size: 0.8em; font-weight: bold; line-height: 1; border-radius: 0.35em; vertical-align: middle; margin-left: 0.5rem\">ORG</span>\n",
       "</mark>\n",
       " .</div></span>"
      ],
      "text/plain": [
       "<IPython.core.display.HTML object>"
      ]
     },
     "metadata": {},
     "output_type": "display_data"
    },
    {
     "name": "stdout",
     "output_type": "stream",
     "text": [
      "\n"
     ]
    }
   ],
   "source": [
    "for i in df['text'][:10]:\n",
    "    print(i)\n",
    "    find_vis_ents(i)\n",
    "    print()"
   ]
  },
  {
   "cell_type": "code",
   "execution_count": null,
   "metadata": {},
   "outputs": [],
   "source": []
  }
 ],
 "metadata": {
  "interpreter": {
   "hash": "134d0c420be716f4705853afbda20cd302fe0206959a3d1297c95703aa0f5f9d"
  },
  "kernelspec": {
   "display_name": "Python 3.9.7 64-bit ('c-m_env': venv)",
   "name": "python3"
  },
  "language_info": {
   "codemirror_mode": {
    "name": "ipython",
    "version": 3
   },
   "file_extension": ".py",
   "mimetype": "text/x-python",
   "name": "python",
   "nbconvert_exporter": "python",
   "pygments_lexer": "ipython3",
   "version": "3.9.7"
  },
  "orig_nbformat": 4
 },
 "nbformat": 4,
 "nbformat_minor": 2
}
