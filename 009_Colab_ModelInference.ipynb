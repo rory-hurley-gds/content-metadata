{
  "nbformat": 4,
  "nbformat_minor": 0,
  "metadata": {
    "colab": {
      "name": "009_Colab_ModelInference.ipynb",
      "provenance": [],
      "collapsed_sections": [],
      "authorship_tag": "ABX9TyOgaMhuCboAEZKiy2ryWDjc",
      "include_colab_link": true
    },
    "kernelspec": {
      "name": "python3",
      "display_name": "Python 3"
    },
    "language_info": {
      "name": "python"
    }
  },
  "cells": [
    {
      "cell_type": "markdown",
      "metadata": {
        "id": "view-in-github",
        "colab_type": "text"
      },
      "source": [
        "<a href=\"https://colab.research.google.com/github/rory-hurley-gds/content-metadata/blob/main/009_Colab_ModelInference.ipynb\" target=\"_parent\"><img src=\"https://colab.research.google.com/assets/colab-badge.svg\" alt=\"Open In Colab\"/></a>"
      ]
    },
    {
      "cell_type": "markdown",
      "source": [
        "# Model Inference"
      ],
      "metadata": {
        "id": "sLKNYn8S6qkN"
      }
    },
    {
      "cell_type": "markdown",
      "metadata": {
        "id": "eC4fDV-br_y-"
      },
      "source": [
        "## Load Model for Inference"
      ]
    },
    {
      "cell_type": "markdown",
      "metadata": {
        "id": "PHngpvyLtn0o"
      },
      "source": [
        "Load model from local\n"
      ]
    },
    {
      "cell_type": "code",
      "source": [
        "req_date = '09-12-2021'\n",
        "\n",
        "OUTPUT_PATH = f\"{MODEL_DIR}/{model_name}-finetuned-{task}-{dataset_name}-{dataset_type}-{req_date}\""
      ],
      "metadata": {
        "id": "ycIZZ0a9L2Yu"
      },
      "execution_count": null,
      "outputs": []
    },
    {
      "cell_type": "code",
      "metadata": {
        "id": "4Nitgf5WzZTH",
        "colab": {
          "base_uri": "https://localhost:8080/",
          "height": 35
        },
        "outputId": "d2cb6667-5dd7-48c1-b7f7-c96721861a6f"
      },
      "source": [
        "model_name = model_checkpoint.split(\"/\")[-1]\n",
        "model_name"
      ],
      "execution_count": null,
      "outputs": [
        {
          "output_type": "execute_result",
          "data": {
            "application/vnd.google.colaboratory.intrinsic+json": {
              "type": "string"
            },
            "text/plain": [
              "'distilbert-base-uncased'"
            ]
          },
          "metadata": {},
          "execution_count": 62
        }
      ]
    },
    {
      "cell_type": "code",
      "metadata": {
        "colab": {
          "base_uri": "https://localhost:8080/"
        },
        "id": "7Y3VwUGQ8bai",
        "outputId": "26dbe10b-4a3c-4f0f-c5ad-88364e2a3c5e"
      },
      "source": [
        "os.listdir(OUTPUT_PATH)"
      ],
      "execution_count": null,
      "outputs": [
        {
          "output_type": "execute_result",
          "data": {
            "text/plain": [
              "['checkpoint-500',\n",
              " 'checkpoint-1000',\n",
              " 'checkpoint-1500',\n",
              " 'checkpoint-2000',\n",
              " 'checkpoint-2500',\n",
              " 'checkpoint-3000',\n",
              " 'checkpoint-3500',\n",
              " 'checkpoint-4000',\n",
              " 'checkpoint-4500',\n",
              " 'checkpoint-5000',\n",
              " 'tokenizer_config.json',\n",
              " 'special_tokens_map.json',\n",
              " 'vocab.txt',\n",
              " 'tokenizer.json']"
            ]
          },
          "metadata": {},
          "execution_count": 63
        }
      ]
    },
    {
      "cell_type": "code",
      "metadata": {
        "colab": {
          "base_uri": "https://localhost:8080/",
          "height": 35
        },
        "id": "fr9ojyGC8lNu",
        "outputId": "01fbe36f-8bf9-4b02-d9ad-49f6200cca5a"
      },
      "source": [
        "checkpoint = os.path.join(OUTPUT_PATH, 'checkpoint-3000')\n",
        "checkpoint"
      ],
      "execution_count": null,
      "outputs": [
        {
          "output_type": "execute_result",
          "data": {
            "application/vnd.google.colaboratory.intrinsic+json": {
              "type": "string"
            },
            "text/plain": [
              "'/content/gdrive/Shared drives/GOV.UK teams/2020-2021/Data labs/content-metadata-2021/Models/distilbert-base-uncased-finetuned-ner-govuk-SAMPLED-09-12-2021/checkpoint-3000'"
            ]
          },
          "metadata": {},
          "execution_count": 64
        }
      ]
    },
    {
      "cell_type": "code",
      "metadata": {
        "id": "a3uwUS5OwxYR",
        "colab": {
          "base_uri": "https://localhost:8080/"
        },
        "outputId": "d8538fd8-221f-46a3-e92e-edea140be514"
      },
      "source": [
        "local_tokenizer = AutoTokenizer.from_pretrained(checkpoint, local_files_only=True)\n",
        "local_model = AutoModelForTokenClassification.from_pretrained(checkpoint, local_files_only=True)"
      ],
      "execution_count": null,
      "outputs": [
        {
          "output_type": "stream",
          "name": "stderr",
          "text": [
            "Didn't find file /content/gdrive/Shared drives/GOV.UK teams/2020-2021/Data labs/content-metadata-2021/Models/distilbert-base-uncased-finetuned-ner-govuk-SAMPLED-09-12-2021/checkpoint-3000/added_tokens.json. We won't load it.\n",
            "loading file /content/gdrive/Shared drives/GOV.UK teams/2020-2021/Data labs/content-metadata-2021/Models/distilbert-base-uncased-finetuned-ner-govuk-SAMPLED-09-12-2021/checkpoint-3000/vocab.txt\n",
            "loading file /content/gdrive/Shared drives/GOV.UK teams/2020-2021/Data labs/content-metadata-2021/Models/distilbert-base-uncased-finetuned-ner-govuk-SAMPLED-09-12-2021/checkpoint-3000/tokenizer.json\n",
            "loading file None\n",
            "loading file /content/gdrive/Shared drives/GOV.UK teams/2020-2021/Data labs/content-metadata-2021/Models/distilbert-base-uncased-finetuned-ner-govuk-SAMPLED-09-12-2021/checkpoint-3000/special_tokens_map.json\n",
            "loading file /content/gdrive/Shared drives/GOV.UK teams/2020-2021/Data labs/content-metadata-2021/Models/distilbert-base-uncased-finetuned-ner-govuk-SAMPLED-09-12-2021/checkpoint-3000/tokenizer_config.json\n",
            "loading configuration file /content/gdrive/Shared drives/GOV.UK teams/2020-2021/Data labs/content-metadata-2021/Models/distilbert-base-uncased-finetuned-ner-govuk-SAMPLED-09-12-2021/checkpoint-3000/config.json\n",
            "Model config DistilBertConfig {\n",
            "  \"_name_or_path\": \"distilbert-base-uncased\",\n",
            "  \"activation\": \"gelu\",\n",
            "  \"architectures\": [\n",
            "    \"DistilBertForTokenClassification\"\n",
            "  ],\n",
            "  \"attention_dropout\": 0.1,\n",
            "  \"dim\": 768,\n",
            "  \"dropout\": 0.1,\n",
            "  \"hidden_dim\": 3072,\n",
            "  \"id2label\": {\n",
            "    \"0\": \"O\",\n",
            "    \"1\": \"I-CONTACT\",\n",
            "    \"2\": \"I-DATE\",\n",
            "    \"3\": \"I-EVENT\",\n",
            "    \"4\": \"I-FINANCE\",\n",
            "    \"5\": \"I-FORM\",\n",
            "    \"6\": \"I-LOC\",\n",
            "    \"7\": \"I-MISC\",\n",
            "    \"8\": \"I-MONEY\",\n",
            "    \"9\": \"I-ORG\",\n",
            "    \"10\": \"I-PER\",\n",
            "    \"11\": \"I-SCHEME\",\n",
            "    \"12\": \"I-STATE\"\n",
            "  },\n",
            "  \"initializer_range\": 0.02,\n",
            "  \"label2id\": {\n",
            "    \"I-CONTACT\": \"1\",\n",
            "    \"I-DATE\": \"2\",\n",
            "    \"I-EVENT\": \"3\",\n",
            "    \"I-FINANCE\": \"4\",\n",
            "    \"I-FORM\": \"5\",\n",
            "    \"I-LOC\": \"6\",\n",
            "    \"I-MISC\": \"7\",\n",
            "    \"I-MONEY\": \"8\",\n",
            "    \"I-ORG\": \"9\",\n",
            "    \"I-PER\": \"10\",\n",
            "    \"I-SCHEME\": \"11\",\n",
            "    \"I-STATE\": \"12\",\n",
            "    \"O\": \"0\"\n",
            "  },\n",
            "  \"max_position_embeddings\": 512,\n",
            "  \"model_type\": \"distilbert\",\n",
            "  \"n_heads\": 12,\n",
            "  \"n_layers\": 6,\n",
            "  \"pad_token_id\": 0,\n",
            "  \"qa_dropout\": 0.1,\n",
            "  \"seq_classif_dropout\": 0.2,\n",
            "  \"sinusoidal_pos_embds\": false,\n",
            "  \"tie_weights_\": true,\n",
            "  \"torch_dtype\": \"float32\",\n",
            "  \"transformers_version\": \"4.12.5\",\n",
            "  \"vocab_size\": 30522\n",
            "}\n",
            "\n",
            "loading weights file /content/gdrive/Shared drives/GOV.UK teams/2020-2021/Data labs/content-metadata-2021/Models/distilbert-base-uncased-finetuned-ner-govuk-SAMPLED-09-12-2021/checkpoint-3000/pytorch_model.bin\n",
            "All model checkpoint weights were used when initializing DistilBertForTokenClassification.\n",
            "\n",
            "All the weights of DistilBertForTokenClassification were initialized from the model checkpoint at /content/gdrive/Shared drives/GOV.UK teams/2020-2021/Data labs/content-metadata-2021/Models/distilbert-base-uncased-finetuned-ner-govuk-SAMPLED-09-12-2021/checkpoint-3000.\n",
            "If your task is similar to the task the model of the checkpoint was trained on, you can already use DistilBertForTokenClassification for predictions without further training.\n"
          ]
        }
      ]
    },
    {
      "cell_type": "code",
      "metadata": {
        "id": "XErLlwIDw7wT"
      },
      "source": [
        "sequences = [\"my name is rory\"]"
      ],
      "execution_count": null,
      "outputs": []
    },
    {
      "cell_type": "code",
      "metadata": {
        "id": "x_kqkO5grooP"
      },
      "source": [
        "processed_tokens = local_tokenizer(sequences, padding=True, truncation=True, return_tensors=\"pt\")"
      ],
      "execution_count": null,
      "outputs": []
    },
    {
      "cell_type": "code",
      "metadata": {
        "id": "dHmAey-Z0Mcg",
        "colab": {
          "base_uri": "https://localhost:8080/"
        },
        "outputId": "bafd19b9-8470-4090-81e0-4c7d3dc18b0a"
      },
      "source": [
        "processed_tokens"
      ],
      "execution_count": null,
      "outputs": [
        {
          "output_type": "execute_result",
          "data": {
            "text/plain": [
              "{'input_ids': tensor([[  101,  2026,  2171,  2003, 14285,   102]]), 'attention_mask': tensor([[1, 1, 1, 1, 1, 1]])}"
            ]
          },
          "metadata": {},
          "execution_count": 68
        }
      ]
    },
    {
      "cell_type": "code",
      "metadata": {
        "id": "N4P02hHFxZga"
      },
      "source": [
        "output = local_model(**processed_tokens)"
      ],
      "execution_count": null,
      "outputs": []
    },
    {
      "cell_type": "code",
      "metadata": {
        "id": "YA9B0_WPxe2n",
        "colab": {
          "base_uri": "https://localhost:8080/"
        },
        "outputId": "e09f6661-c1d7-49bc-955a-b8291ab73166"
      },
      "source": [
        "output"
      ],
      "execution_count": null,
      "outputs": [
        {
          "output_type": "execute_result",
          "data": {
            "text/plain": [
              "TokenClassifierOutput([('logits',\n",
              "                        tensor([[[ 6.3751, -0.1302, -0.8574, -1.0687, -0.8609, -1.1079, -0.6894,\n",
              "                                  -0.5905, -1.8091, -0.4989,  0.3400, -1.0538, -0.9695],\n",
              "                                 [ 7.4898,  0.3758, -0.4982, -0.7507, -1.5771, -1.1519, -1.1837,\n",
              "                                  -1.0846, -1.8607, -1.1331, -1.1646, -1.4914, -0.3019],\n",
              "                                 [ 6.4232,  1.5325,  1.0269, -0.1623, -1.2901, -1.5735, -0.5248,\n",
              "                                  -2.4081, -1.2786, -0.8276, -0.7841, -1.6417, -0.4507],\n",
              "                                 [ 8.3095,  0.4040,  0.3266, -0.3711, -1.6587, -1.2336, -1.1712,\n",
              "                                  -2.1383, -2.0269, -1.1891, -1.2550, -1.7799, -0.8877],\n",
              "                                 [ 6.2551, -1.4288, -0.8611,  0.2269, -0.9314, -1.4621, -0.7382,\n",
              "                                  -1.2094, -2.3163, -0.8337,  1.6922, -2.3599, -0.4367],\n",
              "                                 [ 1.2478, -1.1090, -0.9447,  0.8936, -0.7942, -1.0992, -0.7086,\n",
              "                                   1.6312,  1.6976, -0.9472,  0.9347,  0.0459, -0.8388]]],\n",
              "                               grad_fn=<AddBackward0>))])"
            ]
          },
          "metadata": {},
          "execution_count": 70
        }
      ]
    },
    {
      "cell_type": "code",
      "source": [
        "output['logits']"
      ],
      "metadata": {
        "colab": {
          "base_uri": "https://localhost:8080/"
        },
        "id": "EMj5f7hGUfnw",
        "outputId": "bd582d56-d608-4d01-b466-800cf24e5e09"
      },
      "execution_count": null,
      "outputs": [
        {
          "output_type": "execute_result",
          "data": {
            "text/plain": [
              "tensor([[[ 6.3751, -0.1302, -0.8574, -1.0687, -0.8609, -1.1079, -0.6894,\n",
              "          -0.5905, -1.8091, -0.4989,  0.3400, -1.0538, -0.9695],\n",
              "         [ 7.4898,  0.3758, -0.4982, -0.7507, -1.5771, -1.1519, -1.1837,\n",
              "          -1.0846, -1.8607, -1.1331, -1.1646, -1.4914, -0.3019],\n",
              "         [ 6.4232,  1.5325,  1.0269, -0.1623, -1.2901, -1.5735, -0.5248,\n",
              "          -2.4081, -1.2786, -0.8276, -0.7841, -1.6417, -0.4507],\n",
              "         [ 8.3095,  0.4040,  0.3266, -0.3711, -1.6587, -1.2336, -1.1712,\n",
              "          -2.1383, -2.0269, -1.1891, -1.2550, -1.7799, -0.8877],\n",
              "         [ 6.2551, -1.4288, -0.8611,  0.2269, -0.9314, -1.4621, -0.7382,\n",
              "          -1.2094, -2.3163, -0.8337,  1.6922, -2.3599, -0.4367],\n",
              "         [ 1.2478, -1.1090, -0.9447,  0.8936, -0.7942, -1.0992, -0.7086,\n",
              "           1.6312,  1.6976, -0.9472,  0.9347,  0.0459, -0.8388]]],\n",
              "       grad_fn=<AddBackward0>)"
            ]
          },
          "metadata": {},
          "execution_count": 71
        }
      ]
    },
    {
      "cell_type": "code",
      "source": [
        "print(output.attentions)\n",
        "print(output.hidden_states)\n",
        "print(output.loss)"
      ],
      "metadata": {
        "colab": {
          "base_uri": "https://localhost:8080/"
        },
        "id": "gfqdMfZ6Q4k2",
        "outputId": "3977b216-2d7f-4100-99c3-876c5b923218"
      },
      "execution_count": null,
      "outputs": [
        {
          "output_type": "stream",
          "name": "stdout",
          "text": [
            "None\n",
            "None\n",
            "None\n"
          ]
        }
      ]
    },
    {
      "cell_type": "code",
      "metadata": {
        "id": "sVeVXlUGx_jm"
      },
      "source": [
        "# Replace this with your own checkpoint\n",
        "token_classifier = pipeline(\n",
        "    \"token-classification\", model=local_model, tokenizer=local_tokenizer, aggregation_strategy=\"simple\"\n",
        ")"
      ],
      "execution_count": null,
      "outputs": []
    },
    {
      "cell_type": "code",
      "metadata": {
        "id": "EWefKsaCMeO5",
        "colab": {
          "base_uri": "https://localhost:8080/"
        },
        "outputId": "ac5a420e-6297-4c5b-e312-4840e28a987d"
      },
      "source": [
        "string = \"The show is on the Disney Channel. It airs at 8pm. It will be shown in spanish and english.\"\n",
        "print(string)\n",
        "print(len(string))"
      ],
      "execution_count": null,
      "outputs": [
        {
          "output_type": "stream",
          "name": "stdout",
          "text": [
            "The show is on the Disney Channel. It airs at 8pm. It will be shown in spanish and english.\n",
            "91\n"
          ]
        }
      ]
    },
    {
      "cell_type": "code",
      "metadata": {
        "id": "HtOp3KsG06_k"
      },
      "source": [
        "result = token_classifier(string)"
      ],
      "execution_count": null,
      "outputs": []
    },
    {
      "cell_type": "code",
      "metadata": {
        "id": "QF8ava2w3V0B",
        "colab": {
          "base_uri": "https://localhost:8080/"
        },
        "outputId": "bcb60746-88cf-401e-90ad-21eedf5ac9cc"
      },
      "source": [
        "result"
      ],
      "execution_count": null,
      "outputs": [
        {
          "output_type": "execute_result",
          "data": {
            "text/plain": [
              "[{'end': 33,\n",
              "  'entity_group': 'ORG',\n",
              "  'score': 0.9076291,\n",
              "  'start': 19,\n",
              "  'word': 'disney channel'},\n",
              " {'end': 49,\n",
              "  'entity_group': 'MONEY',\n",
              "  'score': 0.917585,\n",
              "  'start': 46,\n",
              "  'word': '8pm'},\n",
              " {'end': 78,\n",
              "  'entity_group': 'MISC',\n",
              "  'score': 0.50204414,\n",
              "  'start': 71,\n",
              "  'word': 'spanish'},\n",
              " {'end': 90,\n",
              "  'entity_group': 'MISC',\n",
              "  'score': 0.9836565,\n",
              "  'start': 83,\n",
              "  'word': 'english'}]"
            ]
          },
          "metadata": {},
          "execution_count": 76
        }
      ]
    },
    {
      "cell_type": "markdown",
      "metadata": {
        "id": "XxwsLIWUzt2G"
      },
      "source": [
        "## Visualise Entites"
      ]
    },
    {
      "cell_type": "code",
      "metadata": {
        "id": "5PKoOINNzwN0",
        "colab": {
          "base_uri": "https://localhost:8080/",
          "height": 52
        },
        "outputId": "5c85f7de-725a-446e-9014-c7508aaf8251"
      },
      "source": [
        "import spacy\n",
        "from spacy import displacy\n",
        "\n",
        "text = \"Hi my name is Rory Hurley. I work for the Cabinet Office. I speak english and a little bit of spanish\"\n",
        "\n",
        "nlp = spacy.load(\"en_core_web_sm\")\n",
        "doc = nlp(text)\n",
        "displacy.render(doc, style='ent', jupyter=True, options={'distance': 90})"
      ],
      "execution_count": null,
      "outputs": [
        {
          "output_type": "display_data",
          "data": {
            "text/html": [
              "<span class=\"tex2jax_ignore\"><div class=\"entities\" style=\"line-height: 2.5; direction: ltr\">Hi my name is \n",
              "<mark class=\"entity\" style=\"background: #aa9cfc; padding: 0.45em 0.6em; margin: 0 0.25em; line-height: 1; border-radius: 0.35em;\">\n",
              "    Rory Hurley\n",
              "    <span style=\"font-size: 0.8em; font-weight: bold; line-height: 1; border-radius: 0.35em; text-transform: uppercase; vertical-align: middle; margin-left: 0.5rem\">PERSON</span>\n",
              "</mark>\n",
              ". I work for \n",
              "<mark class=\"entity\" style=\"background: #7aecec; padding: 0.45em 0.6em; margin: 0 0.25em; line-height: 1; border-radius: 0.35em;\">\n",
              "    the Cabinet Office\n",
              "    <span style=\"font-size: 0.8em; font-weight: bold; line-height: 1; border-radius: 0.35em; text-transform: uppercase; vertical-align: middle; margin-left: 0.5rem\">ORG</span>\n",
              "</mark>\n",
              ". I speak \n",
              "<mark class=\"entity\" style=\"background: #ff8197; padding: 0.45em 0.6em; margin: 0 0.25em; line-height: 1; border-radius: 0.35em;\">\n",
              "    english\n",
              "    <span style=\"font-size: 0.8em; font-weight: bold; line-height: 1; border-radius: 0.35em; text-transform: uppercase; vertical-align: middle; margin-left: 0.5rem\">LANGUAGE</span>\n",
              "</mark>\n",
              " and a little bit of \n",
              "<mark class=\"entity\" style=\"background: #ff8197; padding: 0.45em 0.6em; margin: 0 0.25em; line-height: 1; border-radius: 0.35em;\">\n",
              "    spanish\n",
              "    <span style=\"font-size: 0.8em; font-weight: bold; line-height: 1; border-radius: 0.35em; text-transform: uppercase; vertical-align: middle; margin-left: 0.5rem\">LANGUAGE</span>\n",
              "</mark>\n",
              "</div></span>"
            ],
            "text/plain": [
              "<IPython.core.display.HTML object>"
            ]
          },
          "metadata": {}
        }
      ]
    },
    {
      "cell_type": "code",
      "metadata": {
        "id": "c9A250rs1tZj"
      },
      "source": [
        "text = \"My name is John Smith and I live in Paris\"\n",
        "entities = [\n",
        "    (\"Employee\", 11, 21),  # John Smith\n",
        "    (\"Location\", 36, 41),  # Paris\n",
        "]"
      ],
      "execution_count": null,
      "outputs": []
    },
    {
      "cell_type": "code",
      "metadata": {
        "id": "5mNEj19L0roV"
      },
      "source": [
        "import spacy\n",
        "\n",
        "def display_entities(text, entities):\n",
        "  nlp = spacy.blank(\"en\")\n",
        "  doc = nlp(text)\n",
        "  ents = []\n",
        "  for ee in entities:\n",
        "      ents.append(doc.char_span(ee[1], ee[2], ee[0]))\n",
        "  doc.ents = ents\n",
        "  displacy.render(doc, style='ent', jupyter=True, options={'distance': 90})\n",
        "\n",
        "def tokenise_and_display(text):\n",
        "  result = token_classifier(text)\n",
        "  print(result)\n",
        "  res_ents = [(i['entity_group'], i['start'], i['end']) for i in result]\n",
        "  print(res_ents)\n",
        "  display_entities(text, entities=res_ents)"
      ],
      "execution_count": null,
      "outputs": []
    },
    {
      "cell_type": "code",
      "metadata": {
        "id": "Gf_oCQM71LPp",
        "colab": {
          "base_uri": "https://localhost:8080/",
          "height": 52
        },
        "outputId": "100c03e4-0a42-44a1-8601-d1725774fad1"
      },
      "source": [
        "display_entities(text, entities)"
      ],
      "execution_count": null,
      "outputs": [
        {
          "output_type": "display_data",
          "data": {
            "text/html": [
              "<span class=\"tex2jax_ignore\"><div class=\"entities\" style=\"line-height: 2.5; direction: ltr\">My name is \n",
              "<mark class=\"entity\" style=\"background: #ddd; padding: 0.45em 0.6em; margin: 0 0.25em; line-height: 1; border-radius: 0.35em;\">\n",
              "    John Smith\n",
              "    <span style=\"font-size: 0.8em; font-weight: bold; line-height: 1; border-radius: 0.35em; text-transform: uppercase; vertical-align: middle; margin-left: 0.5rem\">Employee</span>\n",
              "</mark>\n",
              " and I live in \n",
              "<mark class=\"entity\" style=\"background: #ddd; padding: 0.45em 0.6em; margin: 0 0.25em; line-height: 1; border-radius: 0.35em;\">\n",
              "    Paris\n",
              "    <span style=\"font-size: 0.8em; font-weight: bold; line-height: 1; border-radius: 0.35em; text-transform: uppercase; vertical-align: middle; margin-left: 0.5rem\">Location</span>\n",
              "</mark>\n",
              "</div></span>"
            ],
            "text/plain": [
              "<IPython.core.display.HTML object>"
            ]
          },
          "metadata": {}
        }
      ]
    },
    {
      "cell_type": "code",
      "metadata": {
        "id": "rK7oNUKO1TCY",
        "colab": {
          "base_uri": "https://localhost:8080/"
        },
        "outputId": "e9d0f907-3c14-47e3-aeeb-6f3647734cc2"
      },
      "source": [
        "result[:2]"
      ],
      "execution_count": null,
      "outputs": [
        {
          "output_type": "execute_result",
          "data": {
            "text/plain": [
              "[{'end': 33,\n",
              "  'entity_group': 'ORG',\n",
              "  'score': 0.9076291,\n",
              "  'start': 19,\n",
              "  'word': 'disney channel'},\n",
              " {'end': 49,\n",
              "  'entity_group': 'MONEY',\n",
              "  'score': 0.917585,\n",
              "  'start': 46,\n",
              "  'word': '8pm'}]"
            ]
          },
          "metadata": {},
          "execution_count": 82
        }
      ]
    },
    {
      "cell_type": "code",
      "metadata": {
        "id": "bpVBfJU42YkB",
        "colab": {
          "base_uri": "https://localhost:8080/"
        },
        "outputId": "7d409d10-2334-405d-8ec3-64f236f0380c"
      },
      "source": [
        "res_ents = [(i['entity_group'], i['start'], i['end']) for i in result]\n",
        "res_ents"
      ],
      "execution_count": null,
      "outputs": [
        {
          "output_type": "execute_result",
          "data": {
            "text/plain": [
              "[('ORG', 19, 33), ('MONEY', 46, 49), ('MISC', 71, 78), ('MISC', 83, 90)]"
            ]
          },
          "metadata": {},
          "execution_count": 83
        }
      ]
    },
    {
      "cell_type": "code",
      "metadata": {
        "id": "WOPqKOtJ2vzx",
        "colab": {
          "base_uri": "https://localhost:8080/",
          "height": 52
        },
        "outputId": "ace9e44a-418b-4191-edd9-1438be9a0b86"
      },
      "source": [
        "display_entities(string, res_ents)"
      ],
      "execution_count": null,
      "outputs": [
        {
          "output_type": "display_data",
          "data": {
            "text/html": [
              "<span class=\"tex2jax_ignore\"><div class=\"entities\" style=\"line-height: 2.5; direction: ltr\">The show is on the \n",
              "<mark class=\"entity\" style=\"background: #7aecec; padding: 0.45em 0.6em; margin: 0 0.25em; line-height: 1; border-radius: 0.35em;\">\n",
              "    Disney Channel\n",
              "    <span style=\"font-size: 0.8em; font-weight: bold; line-height: 1; border-radius: 0.35em; text-transform: uppercase; vertical-align: middle; margin-left: 0.5rem\">ORG</span>\n",
              "</mark>\n",
              ". It airs at \n",
              "<mark class=\"entity\" style=\"background: #e4e7d2; padding: 0.45em 0.6em; margin: 0 0.25em; line-height: 1; border-radius: 0.35em;\">\n",
              "    8pm\n",
              "    <span style=\"font-size: 0.8em; font-weight: bold; line-height: 1; border-radius: 0.35em; text-transform: uppercase; vertical-align: middle; margin-left: 0.5rem\">MONEY</span>\n",
              "</mark>\n",
              ". It will be shown in \n",
              "<mark class=\"entity\" style=\"background: #ddd; padding: 0.45em 0.6em; margin: 0 0.25em; line-height: 1; border-radius: 0.35em;\">\n",
              "    spanish\n",
              "    <span style=\"font-size: 0.8em; font-weight: bold; line-height: 1; border-radius: 0.35em; text-transform: uppercase; vertical-align: middle; margin-left: 0.5rem\">MISC</span>\n",
              "</mark>\n",
              " and \n",
              "<mark class=\"entity\" style=\"background: #ddd; padding: 0.45em 0.6em; margin: 0 0.25em; line-height: 1; border-radius: 0.35em;\">\n",
              "    english\n",
              "    <span style=\"font-size: 0.8em; font-weight: bold; line-height: 1; border-radius: 0.35em; text-transform: uppercase; vertical-align: middle; margin-left: 0.5rem\">MISC</span>\n",
              "</mark>\n",
              ".</div></span>"
            ],
            "text/plain": [
              "<IPython.core.display.HTML object>"
            ]
          },
          "metadata": {}
        }
      ]
    },
    {
      "cell_type": "code",
      "metadata": {
        "id": "Pjp9x3io3IMQ",
        "colab": {
          "base_uri": "https://localhost:8080/",
          "height": 107
        },
        "outputId": "ec1862e9-7c9d-46bb-860c-684c416e8cf2"
      },
      "source": [
        "tokenise_and_display(string)"
      ],
      "execution_count": null,
      "outputs": [
        {
          "output_type": "stream",
          "name": "stdout",
          "text": [
            "[{'entity_group': 'ORG', 'score': 0.9076291, 'word': 'disney channel', 'start': 19, 'end': 33}, {'entity_group': 'MONEY', 'score': 0.917585, 'word': '8pm', 'start': 46, 'end': 49}, {'entity_group': 'MISC', 'score': 0.50204414, 'word': 'spanish', 'start': 71, 'end': 78}, {'entity_group': 'MISC', 'score': 0.9836565, 'word': 'english', 'start': 83, 'end': 90}]\n",
            "[('ORG', 19, 33), ('MONEY', 46, 49), ('MISC', 71, 78), ('MISC', 83, 90)]\n"
          ]
        },
        {
          "output_type": "display_data",
          "data": {
            "text/html": [
              "<span class=\"tex2jax_ignore\"><div class=\"entities\" style=\"line-height: 2.5; direction: ltr\">The show is on the \n",
              "<mark class=\"entity\" style=\"background: #7aecec; padding: 0.45em 0.6em; margin: 0 0.25em; line-height: 1; border-radius: 0.35em;\">\n",
              "    Disney Channel\n",
              "    <span style=\"font-size: 0.8em; font-weight: bold; line-height: 1; border-radius: 0.35em; text-transform: uppercase; vertical-align: middle; margin-left: 0.5rem\">ORG</span>\n",
              "</mark>\n",
              ". It airs at \n",
              "<mark class=\"entity\" style=\"background: #e4e7d2; padding: 0.45em 0.6em; margin: 0 0.25em; line-height: 1; border-radius: 0.35em;\">\n",
              "    8pm\n",
              "    <span style=\"font-size: 0.8em; font-weight: bold; line-height: 1; border-radius: 0.35em; text-transform: uppercase; vertical-align: middle; margin-left: 0.5rem\">MONEY</span>\n",
              "</mark>\n",
              ". It will be shown in \n",
              "<mark class=\"entity\" style=\"background: #ddd; padding: 0.45em 0.6em; margin: 0 0.25em; line-height: 1; border-radius: 0.35em;\">\n",
              "    spanish\n",
              "    <span style=\"font-size: 0.8em; font-weight: bold; line-height: 1; border-radius: 0.35em; text-transform: uppercase; vertical-align: middle; margin-left: 0.5rem\">MISC</span>\n",
              "</mark>\n",
              " and \n",
              "<mark class=\"entity\" style=\"background: #ddd; padding: 0.45em 0.6em; margin: 0 0.25em; line-height: 1; border-radius: 0.35em;\">\n",
              "    english\n",
              "    <span style=\"font-size: 0.8em; font-weight: bold; line-height: 1; border-radius: 0.35em; text-transform: uppercase; vertical-align: middle; margin-left: 0.5rem\">MISC</span>\n",
              "</mark>\n",
              ".</div></span>"
            ],
            "text/plain": [
              "<IPython.core.display.HTML object>"
            ]
          },
          "metadata": {}
        }
      ]
    },
    {
      "cell_type": "code",
      "metadata": {
        "id": "uTd5UOct4eDM"
      },
      "source": [
        ""
      ],
      "execution_count": null,
      "outputs": []
    }
  ]
}